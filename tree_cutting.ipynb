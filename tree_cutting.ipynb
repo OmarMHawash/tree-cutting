{
  "nbformat": 4,
  "nbformat_minor": 0,
  "metadata": {
    "colab": {
      "provenance": [],
      "mount_file_id": "1ifcpnlHX1F4FydXZi1Nh49LID7Nncbw2",
      "authorship_tag": "ABX9TyMLynZJ3vtowxiAq1m3lTrx",
      "include_colab_link": true
    },
    "kernelspec": {
      "name": "python3",
      "display_name": "Python 3"
    },
    "language_info": {
      "name": "python"
    }
  },
  "cells": [
    {
      "cell_type": "markdown",
      "metadata": {
        "id": "view-in-github",
        "colab_type": "text"
      },
      "source": [
        "<a href=\"https://colab.research.google.com/github/OmarMHawash/tree-cutting/blob/main/tree_cutting.ipynb\" target=\"_parent\"><img src=\"https://colab.research.google.com/assets/colab-badge.svg\" alt=\"Open In Colab\"/></a>"
      ]
    },
    {
      "cell_type": "code",
      "source": [
        "from google.colab import drive\n",
        "drive.mount('/content/drive')"
      ],
      "metadata": {
        "id": "j--lFVm4-miv",
        "colab": {
          "base_uri": "https://localhost:8080/"
        },
        "outputId": "df90a890-3616-45b3-80bc-6473c5a236c0"
      },
      "execution_count": 112,
      "outputs": [
        {
          "output_type": "stream",
          "name": "stdout",
          "text": [
            "Drive already mounted at /content/drive; to attempt to forcibly remount, call drive.mount(\"/content/drive\", force_remount=True).\n"
          ]
        }
      ]
    },
    {
      "cell_type": "code",
      "execution_count": 113,
      "metadata": {
        "colab": {
          "base_uri": "https://localhost:8080/"
        },
        "id": "c2r4HdtN7WxU",
        "outputId": "4881c62f-ba39-400e-a184-6bbde374974f"
      },
      "outputs": [
        {
          "output_type": "execute_result",
          "data": {
            "text/plain": [
              "dict_keys(['EgressRoutes', 'PopulatedAreast', 'Communityfeatures', 'SBNFMortalityt', 'TownBoundary', 'CuttingGrids'])"
            ]
          },
          "metadata": {},
          "execution_count": 113
        }
      ],
      "source": [
        "import os\n",
        "from osgeo import gdal, ogr, osr\n",
        "import geopandas as gpd\n",
        "import pandas as pd\n",
        "import numpy as np\n",
        "from scipy.ndimage import distance_transform_edt\n",
        "\n",
        "files = os.listdir('/content/drive/My Drive/tree-cutting/shapes')\n",
        "data_path = '/content/drive/My Drive/tree-cutting/data/'\n",
        "\n",
        "pd_shapes = {}\n",
        "os_shapes = {}\n",
        "\n",
        "for file in files:\n",
        "    newfile = gpd.read_file(data_path + file)\n",
        "    pd_shapes[str(file).replace('.shp', '')] = newfile\n",
        "\n",
        "for file in files:\n",
        "    newfile = ogr.Open(data_path + file)\n",
        "    os_shapes[str(file).replace('.shp', '')] = newfile\n",
        "\n",
        "os_shapes.keys()"
      ]
    },
    {
      "cell_type": "code",
      "source": [
        "# TownBoundary rasterization\n",
        "\n",
        "raster_file = 'rasters/TownBoundary.tif'\n",
        "layer = os_shapes['TownBoundary'].GetLayer()\n",
        "\n",
        "# Get the extent of the vector (bounding box)\n",
        "x_min, x_max, y_min, y_max = layer.GetExtent()\n",
        "\n",
        "# Define the pixel size based on the layer's CRS units\n",
        "pixel_size = 50  # Adjust to a suitable size based on your data's CRS\n",
        "town_x_res = int((x_max - x_min) / pixel_size)\n",
        "town_y_res = int((y_max - y_min) / pixel_size)\n",
        "\n",
        "# Create the output raster with the same CRS as the vector layer\n",
        "target_ds = gdal.GetDriverByName('GTiff').Create(raster_file, town_x_res, town_y_res, 1, gdal.GDT_Byte)\n",
        "\n",
        "# Set the transformation (georeferencing) based on the extent of the vector data\n",
        "target_ds.SetGeoTransform((x_min, pixel_size, 0, y_max, 0, -pixel_size))\n",
        "\n",
        "# Set the same projection as the vector layer\n",
        "spatial_ref = layer.GetSpatialRef()\n",
        "target_ds.SetProjection(spatial_ref.ExportToWkt())  # Use the vector's CRS\n",
        "\n",
        "# Get raster band\n",
        "band = target_ds.GetRasterBand(1)\n",
        "band.Fill(0)  # Initialize raster with zeros (optional)\n",
        "band.SetNoDataValue(0)  # Set no-data value\n",
        "\n",
        "# Rasterize the entire layer (burn values of 1 for the boundary)\n",
        "gdal.RasterizeLayer(target_ds, [1], layer, burn_values=[1])\n",
        "\n",
        "# Close datasets\n",
        "target_ds = None\n",
        "layer = None\n",
        "\n",
        "print(f\"TownBoundary rasterization complete. Output saved at {raster_file}.\")"
      ],
      "metadata": {
        "colab": {
          "base_uri": "https://localhost:8080/"
        },
        "id": "OfeGf1zoAb5L",
        "outputId": "52eddada-57c8-434f-9475-403caf447f5b"
      },
      "execution_count": 114,
      "outputs": [
        {
          "output_type": "stream",
          "name": "stdout",
          "text": [
            "TownBoundary rasterization complete. Output saved at rasters/TownBoundary.tif.\n"
          ]
        }
      ]
    },
    {
      "cell_type": "code",
      "source": [
        "# Communityfeatures Euclidean distance\n",
        "\n",
        "# Open the TownBoundary raster and get its GeoTransform and projection\n",
        "town_boundary_raster = gdal.Open('rasters/TownBoundary.tif')\n",
        "x_min, pixel_size, _, y_max, _ , _ = town_boundary_raster.GetGeoTransform()\n",
        "spatial_ref_town = osr.SpatialReference(town_boundary_raster.GetProjection())\n",
        "\n",
        "# Use the same x_res and y_res (resolution) as the TownBoundary\n",
        "x_res = town_boundary_raster.RasterXSize\n",
        "y_res = town_boundary_raster.RasterYSize\n",
        "\n",
        "# Create the output raster for the CommunityFeatures, aligned with TownBoundary\n",
        "raster_file = 'rasters/Communityfeatures.tif'\n",
        "target_ds = gdal.GetDriverByName('GTiff').Create(raster_file, x_res, y_res, 1, gdal.GDT_Int32)\n",
        "target_ds.SetGeoTransform((x_min, pixel_size, 0, y_max, 0, -pixel_size))\n",
        "target_ds.SetProjection(spatial_ref_town.ExportToWkt())\n",
        "\n",
        "# Get raster band\n",
        "band = target_ds.GetRasterBand(1)\n",
        "band.Fill(0)  # Initialize raster with zeros\n",
        "band.SetNoDataValue(0)  # Set no-data value\n",
        "\n",
        "# Initialize an array to store the weighted distance results\n",
        "distance_raster = np.zeros((y_res, x_res), dtype=np.int32)\n",
        "\n",
        "# Loop through each feature (point) in the layer using GetNextFeature\n",
        "layer = os_shapes['Communityfeatures'].GetLayer()\n",
        "feature = layer.GetNextFeature()  # Get the first feature\n",
        "while feature is not None:\n",
        "    geom = feature.GetGeometryRef()\n",
        "    weight = feature.GetField('weight')  # Replace 'weight' with the actual column name\n",
        "\n",
        "    # Create a new in-memory layer with just this one feature\n",
        "    driver = ogr.GetDriverByName('MEMORY')\n",
        "    temp_ds = driver.CreateDataSource('temp')\n",
        "    temp_layer = temp_ds.CreateLayer('tempLayer', geom_type=ogr.wkbPoint)\n",
        "    temp_layer.CreateFeature(feature.Clone())  # Clone the current feature into the temp layer\n",
        "\n",
        "    # Rasterize the single feature to create a temporary mask (value=1 where the point is)\n",
        "    temp_raster = gdal.GetDriverByName('MEM').Create('', x_res, y_res, 1, gdal.GDT_Byte)\n",
        "    temp_raster.SetGeoTransform((x_min, pixel_size, 0, y_max, 0, -pixel_size))\n",
        "    temp_band = temp_raster.GetRasterBand(1)\n",
        "    temp_band.Fill(0)  # Initialize with zeros\n",
        "    gdal.RasterizeLayer(temp_raster, [1], temp_layer, burn_values=[1], options=['ALL_TOUCHED=TRUE'])\n",
        "\n",
        "    # Read the temporary rasterized point data into an array\n",
        "    point_mask = temp_band.ReadAsArray()\n",
        "\n",
        "    # Compute Euclidean distance from the point\n",
        "    distance = distance_transform_edt(point_mask == 0)\n",
        "\n",
        "    # Apply the weight reduction formula (e.g., weight / distance)\n",
        "    weighted_distance = np.where(distance > 0, weight // distance, weight)\n",
        "\n",
        "    # Combine the weighted distance for this point into the main raster\n",
        "    distance_raster = np.maximum(distance_raster, weighted_distance)  # Take the max of weighted distances\n",
        "\n",
        "    # Print the feature ID to verify it's iterating correctly\n",
        "    print(f\"Processed feature with ID: {feature.GetFID()} and weight: {weight}\")\n",
        "\n",
        "    # Get the next feature\n",
        "    feature = layer.GetNextFeature()\n",
        "\n",
        "# Write the combined weighted distance raster to the output\n",
        "band.WriteArray(distance_raster)\n",
        "\n",
        "# Close datasets\n",
        "target_ds = None\n",
        "layer = None\n",
        "\n",
        "print(f\"Weighted Euclidean distance rasterization complete. Output saved at {raster_file}.\")"
      ],
      "metadata": {
        "colab": {
          "base_uri": "https://localhost:8080/"
        },
        "id": "NaGUuf_HAeKs",
        "outputId": "3946d75c-4dd4-4984-d5e7-f13bc9562e65"
      },
      "execution_count": 115,
      "outputs": [
        {
          "output_type": "stream",
          "name": "stdout",
          "text": [
            "Processed feature with ID: 0 and weight: 5\n",
            "Processed feature with ID: 1 and weight: 9\n",
            "Processed feature with ID: 2 and weight: 3\n",
            "Processed feature with ID: 3 and weight: 4\n",
            "Processed feature with ID: 4 and weight: 1\n",
            "Processed feature with ID: 5 and weight: 2\n",
            "Processed feature with ID: 6 and weight: 7\n",
            "Processed feature with ID: 7 and weight: 6\n",
            "Weighted Euclidean distance rasterization complete. Output saved at rasters/Communityfeatures.tif.\n"
          ]
        },
        {
          "output_type": "stream",
          "name": "stderr",
          "text": [
            "<ipython-input-115-fb0234d644a1>:53: RuntimeWarning: divide by zero encountered in floor_divide\n",
            "  weighted_distance = np.where(distance > 0, weight // distance, weight)\n"
          ]
        }
      ]
    },
    {
      "cell_type": "code",
      "source": [
        "# plot the raster\n",
        "import matplotlib.pyplot as plt\n",
        "\n",
        "# Open the raster file\n",
        "raster = gdal.Open('rasters/Communityfeatures.tif')\n",
        "\n",
        "# Get the raster data\n",
        "data = raster.ReadAsArray()\n",
        "\n",
        "# Plot the raster\n",
        "plt.imshow(data,cmap='gray')\n",
        "plt.colorbar()\n",
        "plt.title('Raster Plot')"
      ],
      "metadata": {
        "colab": {
          "base_uri": "https://localhost:8080/",
          "height": 470
        },
        "id": "OZDDyGyZAizB",
        "outputId": "0e9ec949-f37c-44c0-baa9-115769f66ee5"
      },
      "execution_count": 116,
      "outputs": [
        {
          "output_type": "execute_result",
          "data": {
            "text/plain": [
              "Text(0.5, 1.0, 'Raster Plot')"
            ]
          },
          "metadata": {},
          "execution_count": 116
        },
        {
          "output_type": "display_data",
          "data": {
            "text/plain": [
              "<Figure size 640x480 with 2 Axes>"
            ],
            "image/png": "[encoded data removed]"
          },
          "metadata": {}
        }
      ]
    }
  ]
}