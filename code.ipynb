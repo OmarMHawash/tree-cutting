{
 "cells": [
  {
   "cell_type": "code",
   "execution_count": 1,
   "metadata": {},
   "outputs": [
    {
     "name": "stderr",
     "output_type": "stream",
     "text": [
      "C:\\Users\\omarm\\AppData\\Roaming\\Python\\Python311\\site-packages\\osgeo\\ogr.py:601: FutureWarning: Neither ogr.UseExceptions() nor ogr.DontUseExceptions() has been explicitly called. In GDAL 4.0, exceptions will be enabled by default.\n",
      "  warnings.warn(\n"
     ]
    },
    {
     "data": {
      "text/plain": [
       "dict_keys(['Communityfeatures', 'CuttingGrids', 'EgressRoutes', 'PopulatedAreast', 'SBNFMortalityt', 'TownBoundary'])"
      ]
     },
     "execution_count": 1,
     "metadata": {},
     "output_type": "execute_result"
    }
   ],
   "source": [
    "import os\n",
    "from osgeo import gdal, ogr\n",
    "import geopandas as gpd\n",
    "import pandas as pd\n",
    "import numpy as np\n",
    "\n",
    "files = os.listdir('shapes')\n",
    "\n",
    "pd_shapes = {}\n",
    "os_shapes = {}\n",
    "\n",
    "for file in files:\n",
    "    newfile = gpd.read_file(f'data/{file}')\n",
    "    pd_shapes[str(file).replace('.shp', '')] = newfile\n",
    "\n",
    "for file in files:\n",
    "    newfile = ogr.Open(f'data/{file}')\n",
    "    os_shapes[str(file).replace('.shp', '')] = newfile\n",
    "\n",
    "os_shapes.keys()"
   ]
  },
  {
   "cell_type": "code",
   "execution_count": 50,
   "metadata": {},
   "outputs": [
    {
     "name": "stdout",
     "output_type": "stream",
     "text": [
      "TownBoundary rasterization complete. Output saved at rasters/TownBoundary.tif.\n"
     ]
    }
   ],
   "source": [
    "# TownBoundary rasterization\n",
    "\n",
    "raster_file = 'rasters/TownBoundary.tif'\n",
    "layer = os_shapes['TownBoundary'].GetLayer()\n",
    "\n",
    "# Get the extent of the vector (bounding box)\n",
    "x_min, x_max, y_min, y_max = layer.GetExtent()\n",
    "\n",
    "# Define the pixel size based on the layer's CRS units\n",
    "pixel_size = 50  # Adjust to a suitable size based on your data's CRS\n",
    "x_res = int((x_max - x_min) / pixel_size)\n",
    "y_res = int((y_max - y_min) / pixel_size)\n",
    "\n",
    "# Create the output raster with the same CRS as the vector layer\n",
    "target_ds = gdal.GetDriverByName('GTiff').Create(raster_file, x_res, y_res, 1, gdal.GDT_Byte)\n",
    "\n",
    "# Set the transformation (georeferencing) based on the extent of the vector data\n",
    "target_ds.SetGeoTransform((x_min, pixel_size, 0, y_max, 0, -pixel_size))\n",
    "\n",
    "# Set the same projection as the vector layer\n",
    "spatial_ref = layer.GetSpatialRef()\n",
    "target_ds.SetProjection(spatial_ref.ExportToWkt())  # Use the vector's CRS\n",
    "\n",
    "# Get raster band\n",
    "band = target_ds.GetRasterBand(1)\n",
    "band.Fill(0)  # Initialize raster with zeros (optional)\n",
    "band.SetNoDataValue(0)  # Set no-data value\n",
    "\n",
    "# Rasterize the entire layer (burn values of 1 for the boundary)\n",
    "gdal.RasterizeLayer(target_ds, [1], layer, burn_values=[1])\n",
    "\n",
    "# Close datasets\n",
    "target_ds = None\n",
    "layer = None\n",
    "\n",
    "print(f\"TownBoundary rasterization complete. Output saved at {raster_file}.\")"
   ]
  },
  {
   "cell_type": "code",
   "execution_count": 60,
   "metadata": {},
   "outputs": [
    {
     "name": "stdout",
     "output_type": "stream",
     "text": [
      "Weighted Euclidean distance rasterization complete. Output saved at rasters/Communityfeatures_40.tif.\n"
     ]
    }
   ],
   "source": [
    "# Communityfeatures Euclidean distance\n",
    "\n",
    "from scipy.ndimage import distance_transform_edt\n",
    "\n",
    "raster_file = 'rasters/Communityfeatures_40.tif'\n",
    "layer = os_shapes['Communityfeatures'].GetLayer()\n",
    "\n",
    "# Get the extent of the vector (bounding box)\n",
    "x_min, x_max, y_min, y_max = layer.GetExtent()\n",
    "\n",
    "# Define the resolution of the raster (pixels in x and y directions)\n",
    "pixel_size = 50  # Adjusted to 10\n",
    "x_res = int((x_max - x_min) / pixel_size)\n",
    "y_res = int((y_max - y_min) / pixel_size)\n",
    "\n",
    "# Create the output raster\n",
    "target_ds = gdal.GetDriverByName('GTiff').Create(raster_file, x_res, y_res, 1, gdal.GDT_Float32)\n",
    "\n",
    "# Set the transformation (georeferencing)\n",
    "target_ds.SetGeoTransform((x_min, pixel_size, 0, y_max, 0, -pixel_size))\n",
    "\n",
    "# Get raster band\n",
    "band = target_ds.GetRasterBand(1)\n",
    "band.Fill(0)  # Initialize raster with zeros\n",
    "band.SetNoDataValue(0)  # Set no-data value\n",
    "\n",
    "# Initialize an array to store the weighted distance results\n",
    "distance_raster = np.zeros((y_res, x_res), dtype=np.float32)\n",
    "\n",
    "# Loop through each feature (point) in the layer using GetNextFeature\n",
    "feature = layer.GetNextFeature()  # Get the first feature\n",
    "while feature is not None:\n",
    "    geom = feature.GetGeometryRef()\n",
    "    weight = feature.GetField('weight')  # Replace 'weight' with the actual column name\n",
    "\n",
    "    # Create a new in-memory layer with just this one feature\n",
    "    driver = ogr.GetDriverByName('MEMORY')\n",
    "    temp_ds = driver.CreateDataSource('temp')\n",
    "    temp_layer = temp_ds.CreateLayer('tempLayer', geom_type=ogr.wkbPoint)\n",
    "    temp_layer.CreateFeature(feature.Clone())  # Clone the current feature into the temp layer\n",
    "\n",
    "    # Rasterize the single feature to create a temporary mask (value=1 where the point is)\n",
    "    temp_raster = gdal.GetDriverByName('MEM').Create('', x_res, y_res, 1, gdal.GDT_Byte)\n",
    "    temp_raster.SetGeoTransform((x_min, pixel_size, 0, y_max, 0, -pixel_size))\n",
    "    temp_band = temp_raster.GetRasterBand(1)\n",
    "    temp_band.Fill(0)  # Initialize with zeros\n",
    "    gdal.RasterizeLayer(temp_raster, [1], temp_layer, burn_values=[1])\n",
    "\n",
    "    # Read the temporary rasterized point data into an array\n",
    "    point_mask = temp_band.ReadAsArray()\n",
    "\n",
    "    # Compute Euclidean distance from the point\n",
    "    distance = distance_transform_edt(point_mask == 0)\n",
    "\n",
    "    # Apply the weight reduction formula (e.g., weight / distance)\n",
    "    weighted_distance = np.where(distance > 0, weight / distance, weight)\n",
    "\n",
    "    # Combine the weighted distance for this point into the main raster\n",
    "    distance_raster = np.maximum(distance_raster, weighted_distance)  # Take the max of weighted distances\n",
    "\n",
    "    # Print the feature ID to verify it's iterating correctly\n",
    "    print(f\"Processed feature with ID: {feature.GetFID()} and weight: {weight}\")\n",
    "\n",
    "    # Get the next feature\n",
    "    feature = layer.GetNextFeature()\n",
    "\n",
    "# Write the combined weighted distance raster to the output\n",
    "band.WriteArray(distance_raster)\n",
    "\n",
    "# Close datasets\n",
    "target_ds = None\n",
    "layer = None\n",
    "\n",
    "print(f\"Weighted Euclidean distance rasterization complete. Output saved at {raster_file}.\")"
   ]
  },
  {
   "cell_type": "code",
   "execution_count": 66,
   "metadata": {},
   "outputs": [
    {
     "name": "stdout",
     "output_type": "stream",
     "text": [
      "Weighted Euclidean distance rasterization complete. Output saved at rasters/Communityfeatures_10.tif.\n"
     ]
    }
   ],
   "source": [
    "# NEW Community Features Euclidean distance rasterization\n",
    "import os\n",
    "import numpy as np\n",
    "from osgeo import gdal, ogr\n",
    "from scipy.ndimage import distance_transform_edt\n",
    "\n",
    "# Raster output file\n",
    "raster_file = 'rasters/Communityfeatures_10.tif'\n",
    "\n",
    "# Load the Community Features layer\n",
    "layer = os_shapes['Communityfeatures'].GetLayer()\n",
    "\n",
    "# Get the extent of the vector (bounding box)\n",
    "x_min, x_max, y_min, y_max = layer.GetExtent()\n",
    "\n",
    "# Define the pixel size based on the layer's CRS units (adjust if necessary)\n",
    "pixel_size = 10  # Adjust this value based on the scale of your data's CRS\n",
    "x_res = int((x_max - x_min) / pixel_size)\n",
    "y_res = int((y_max - y_min) / pixel_size)\n",
    "\n",
    "# Create the output raster with matching resolution and extent\n",
    "target_ds = gdal.GetDriverByName('GTiff').Create(raster_file, x_res, y_res, 1, gdal.GDT_Float32)\n",
    "target_ds.SetGeoTransform((x_min, pixel_size, 0, y_max, 0, -pixel_size))\n",
    "\n",
    "# Set CRS for the raster, matching the vector layer\n",
    "spatial_ref = layer.GetSpatialRef()\n",
    "target_ds.SetProjection(spatial_ref.ExportToWkt())\n",
    "\n",
    "# Initialize the raster band and fill with zeros\n",
    "band = target_ds.GetRasterBand(1)\n",
    "band.Fill(0)  # Initialize with zeros\n",
    "band.SetNoDataValue(0)  # Set no-data value\n",
    "\n",
    "# Initialize an array to store the weighted distance results\n",
    "distance_raster = np.zeros((y_res, x_res), dtype=np.float32)\n",
    "\n",
    "# Loop through each feature (point) in the layer\n",
    "feature = layer.GetNextFeature()\n",
    "while feature is not None:\n",
    "    geom = feature.GetGeometryRef()\n",
    "    weight = feature.GetField('weight')  # Replace 'weight' with actual field name\n",
    "\n",
    "    # Create a new in-memory layer to rasterize the point feature\n",
    "    driver = ogr.GetDriverByName('MEMORY')\n",
    "    temp_ds = driver.CreateDataSource('temp')\n",
    "    temp_layer = temp_ds.CreateLayer('tempLayer', geom_type=ogr.wkbPoint)\n",
    "    temp_layer.CreateFeature(feature.Clone())\n",
    "\n",
    "    # Rasterize the single point feature to a temporary raster\n",
    "    temp_raster = gdal.GetDriverByName('MEM').Create('', x_res, y_res, 1, gdal.GDT_Byte)\n",
    "    temp_raster.SetGeoTransform((x_min, pixel_size, 0, y_max, 0, -pixel_size))\n",
    "    temp_raster.SetProjection(spatial_ref.ExportToWkt())\n",
    "    \n",
    "    temp_band = temp_raster.GetRasterBand(1)\n",
    "    temp_band.Fill(0)  # Initialize with zeros\n",
    "    gdal.RasterizeLayer(temp_raster, [1], temp_layer, burn_values=[1])\n",
    "\n",
    "    # Read the rasterized point data into an array\n",
    "    point_mask = temp_band.ReadAsArray()\n",
    "\n",
    "    # Compute Euclidean distance from the point\n",
    "    distance = distance_transform_edt(point_mask == 0)\n",
    "\n",
    "    # Apply the weight reduction formula (e.g., weight / distance)\n",
    "    weighted_distance = np.where(distance > 0, weight / distance, weight)\n",
    "\n",
    "    # Combine the weighted distance for this point into the main raster\n",
    "    distance_raster = np.maximum(distance_raster, weighted_distance)  # Take the maximum of weighted distances\n",
    "\n",
    "    # Move to the next feature\n",
    "    feature = layer.GetNextFeature()\n",
    "\n",
    "# Write the combined weighted distance raster to the output\n",
    "band.WriteArray(distance_raster)\n",
    "\n",
    "# Close datasets\n",
    "target_ds = None\n",
    "layer = None\n",
    "\n",
    "print(f\"Weighted Euclidean distance rasterization complete. Output saved at {raster_file}.\")"
   ]
  },
  {
   "cell_type": "code",
   "execution_count": 4,
   "metadata": {},
   "outputs": [],
   "source": [
    "# BEAUTIFUL PLOT\n",
    "import matplotlib.pyplot as plt\n",
    "\n",
    "# # Plot the polygons first\n",
    "\n",
    "ax = shapes['TownBoundary'].plot(color='lightblue', edgecolor='black')\n",
    "\n",
    "# # Plot the points on top of the polygons\n",
    "shapes['TownBoundary'].plot(ax=ax, marker='o', color='red', markersize=5)\n",
    "\n",
    "# # Customize the plot (optional)\n",
    "# plt.title('Polygons with Points Overlay')\n",
    "# plt.xlabel('Longitude')\n",
    "# plt.ylabel('Latitude')\n",
    "\n",
    "# # Show the plot\n",
    "# plt.show()"
   ]
  },
  {
   "cell_type": "code",
   "execution_count": 68,
   "metadata": {},
   "outputs": [
    {
     "data": {
      "text/plain": [
       "Text(0.5, 1.0, 'Raster Plot')"
      ]
     },
     "execution_count": 68,
     "metadata": {},
     "output_type": "execute_result"
    },
    {
     "data": {
      "image/png": "[encoded data removed]",
      "text/plain": [
       "<Figure size 640x480 with 2 Axes>"
      ]
     },
     "metadata": {},
     "output_type": "display_data"
    }
   ],
   "source": [
    "# plot the raster\n",
    "import matplotlib.pyplot as plt\n",
    "\n",
    "# Open the raster file\n",
    "raster = gdal.Open('rasters/Communityfeatures_50.tif')\n",
    "\n",
    "# Get the raster data\n",
    "data = raster.ReadAsArray()\n",
    "\n",
    "# Plot the raster\n",
    "plt.imshow(data)\n",
    "plt.colorbar()\n",
    "plt.title('Raster Plot')"
   ]
  },
  {
   "cell_type": "code",
   "execution_count": 69,
   "metadata": {},
   "outputs": [
    {
     "data": {
      "image/png": "[encoded data removed]",
      "text/plain": [
       "<Figure size 800x600 with 2 Axes>"
      ]
     },
     "metadata": {},
     "output_type": "display_data"
    }
   ],
   "source": [
    "# Read the raster data\n",
    "\n",
    "town_raster = gdal.Open('rasters/TownBoundary.tif')\n",
    "community_raster = gdal.Open('rasters/Communityfeatures_50.tif')\n",
    "\n",
    "town_data = town_raster.GetRasterBand(1).ReadAsArray()\n",
    "community_data = community_raster.GetRasterBand(1).ReadAsArray()\n",
    "\n",
    "# Plot the rasters\n",
    "plt.figure(figsize=(8, 6))\n",
    "\n",
    "\n",
    "# Plot the TownBoundary raster\n",
    "plt.imshow(town_data, cmap='Blues', alpha=0.5)  # Adjust alpha for transparency\n",
    "\n",
    "# Plot the Communityfeatures raster on top\n",
    "plt.imshow(community_data, cmap='Reds', alpha=0.5)  # Adjust alpha for transparency\n",
    "\n",
    "# Add a colorbar and title\n",
    "plt.colorbar(label='Raster Value')\n",
    "plt.title('Overlay of TownBoundary and Communityfeatures Rasters')\n",
    "\n",
    "# Show the plot\n",
    "plt.show()"
   ]
  }
 ],
 "metadata": {
  "kernelspec": {
   "display_name": "Python 3",
   "language": "python",
   "name": "python3"
  },
  "language_info": {
   "codemirror_mode": {
    "name": "ipython",
    "version": 3
   },
   "file_extension": ".py",
   "mimetype": "text/x-python",
   "name": "python",
   "nbconvert_exporter": "python",
   "pygments_lexer": "ipython3",
   "version": "3.11.9"
  }
 },
 "nbformat": 4,
 "nbformat_minor": 2
}
