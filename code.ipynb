{
 "cells": [
  {
   "cell_type": "code",
   "execution_count": 1,
   "metadata": {},
   "outputs": [
    {
     "ename": "",
     "evalue": "",
     "output_type": "error",
     "traceback": [
      "\u001b[1;31mThe Kernel crashed while executing code in the current cell or a previous cell. \n",
      "\u001b[1;31mPlease review the code in the cell(s) to identify a possible cause of the failure. \n",
      "\u001b[1;31mClick <a href='https://aka.ms/vscodeJupyterKernelCrash'>here</a> for more info. \n",
      "\u001b[1;31mView Jupyter <a href='command:jupyter.viewOutput'>log</a> for further details."
     ]
    }
   ],
   "source": [
    "import os\n",
    "from osgeo import gdal, ogr\n",
    "import geopandas as gpd\n",
    "\n",
    "files = os.listdir('shapes')\n",
    "\n",
    "pd_shapes = {}\n",
    "os_shapes = {}\n",
    "\n",
    "for file in files:\n",
    "    newfile = gpd.read_file(f'data/{file}')\n",
    "    pd_shapes[str(file).replace('.shp', '')] = newfile\n",
    "\n",
    "for file in files:\n",
    "    newfile = ogr.Open(f'data/{file}')\n",
    "    os_shapes[str(file).replace('.shp', '')] = newfile\n",
    "\n",
    "os_shapes.keys()"
   ]
  },
  {
   "cell_type": "code",
   "execution_count": 4,
   "metadata": {},
   "outputs": [],
   "source": [
    "# BEAUTIFUL PLOT\n",
    "import matplotlib.pyplot as plt\n",
    "\n",
    "# # Plot the polygons first\n",
    "# ax = shapes['TownBoundary'].plot(color='lightblue', edgecolor='black')\n",
    "\n",
    "# # Plot the points on top of the polygons\n",
    "# shapes['TownBoundary'].plot(ax=ax, marker='o', color='red', markersize=5)\n",
    "\n",
    "# # Customize the plot (optional)\n",
    "# plt.title('Polygons with Points Overlay')\n",
    "# plt.xlabel('Longitude')\n",
    "# plt.ylabel('Latitude')\n",
    "\n",
    "# # Show the plot\n",
    "# plt.show()"
   ]
  },
  {
   "cell_type": "code",
   "execution_count": null,
   "metadata": {},
   "outputs": [],
   "source": [
    "# SAVING TO TIF raster files, \n",
    "#! all files are the same size & output\n",
    "from osgeo import gdal, ogr\n",
    "import numpy as np\n",
    "\n",
    "rasters = {}\n",
    "for key in os_shapes.keys():\n",
    "    \n",
    "    raster_file = f'rasters/{key}.tif'\n",
    "    layer = os_shapes['Communityfeatures'].GetLayer()\n",
    "    # Get the extent of the vector (bounding box)\n",
    "    x_min, x_max, y_min, y_max = layer.GetExtent()\n",
    "\n",
    "    # Define the resolution of the raster (pixels in x and y directions)\n",
    "    pixel_size = 50  # adjust as needed\n",
    "    x_res = int((x_max - x_min) / pixel_size)\n",
    "    y_res = int((y_max - y_min) / pixel_size)\n",
    "\n",
    "    # Create the output raster\n",
    "    target_ds = gdal.GetDriverByName('GTiff').Create(raster_file, x_res, y_res, 1, gdal.GDT_Byte)\n",
    "\n",
    "    # Set the transformation (georeferencing)\n",
    "    target_ds.SetGeoTransform((x_min, pixel_size, 0, y_max, 0, -pixel_size))\n",
    "\n",
    "    # Get raster band\n",
    "    band = target_ds.GetRasterBand(1)\n",
    "    band.Fill(0)  # Initialize raster with zeros\n",
    "    band.SetNoDataValue(0)  # Set no-data value\n",
    "\n",
    "    # Rasterize the layer\n",
    "    gdal.RasterizeLayer(target_ds, [1], layer, burn_values=[1])\n",
    "\n",
    "    # Close datasets\n",
    "    target_ds = None\n",
    "    vector_source = None\n",
    "\n",
    "    print(f\"Rasterization complete. Output saved at {raster_file}.\")"
   ]
  },
  {
   "cell_type": "code",
   "execution_count": 1,
   "metadata": {},
   "outputs": [
    {
     "ename": "NameError",
     "evalue": "name 'key' is not defined",
     "output_type": "error",
     "traceback": [
      "\u001b[1;31m---------------------------------------------------------------------------\u001b[0m",
      "\u001b[1;31mNameError\u001b[0m                                 Traceback (most recent call last)",
      "Cell \u001b[1;32mIn[1], line 1\u001b[0m\n\u001b[1;32m----> 1\u001b[0m raster_file \u001b[38;5;241m=\u001b[39m \u001b[38;5;124mf\u001b[39m\u001b[38;5;124m'\u001b[39m\u001b[38;5;124mrasters/\u001b[39m\u001b[38;5;132;01m{\u001b[39;00m\u001b[43mkey\u001b[49m\u001b[38;5;132;01m}\u001b[39;00m\u001b[38;5;124m.tif\u001b[39m\u001b[38;5;124m'\u001b[39m\n\u001b[0;32m      2\u001b[0m layer \u001b[38;5;241m=\u001b[39m os_shapes[\u001b[38;5;124m'\u001b[39m\u001b[38;5;124mCommunityfeatures\u001b[39m\u001b[38;5;124m'\u001b[39m]\u001b[38;5;241m.\u001b[39mGetLayer()\n\u001b[0;32m      4\u001b[0m \u001b[38;5;66;03m# Get the extent of the vector (bounding box)\u001b[39;00m\n",
      "\u001b[1;31mNameError\u001b[0m: name 'key' is not defined"
     ]
    }
   ],
   "source": [
    "#Communityfeatures euclidean distance rasterization\n",
    "\n",
    "raster_file = f'rasters/{key}.tif'\n",
    "layer = os_shapes['Communityfeatures'].GetLayer()\n",
    "\n",
    "# Get the extent of the vector (bounding box)\n",
    "x_min, x_max, y_min, y_max = layer.GetExtent()\n",
    "\n",
    "# Define the resolution of the raster (pixels in x and y directions)\n",
    "pixel_size = 50  # Adjust as needed\n",
    "x_res = int((x_max - x_min) / pixel_size)\n",
    "y_res = int((y_max - y_min) / pixel_size)\n",
    "\n",
    "# Create the output raster\n",
    "target_ds = gdal.GetDriverByName('GTiff').Create(raster_file, x_res, y_res, 1, gdal.GDT_Float32)\n",
    "\n",
    "# Set the transformation (georeferencing)\n",
    "target_ds.SetGeoTransform((x_min, pixel_size, 0, y_max, 0, -pixel_size))\n",
    "\n",
    "# Get raster band\n",
    "band = target_ds.GetRasterBand(1)\n",
    "band.Fill(0)  # Initialize raster with zeros\n",
    "band.SetNoDataValue(0)  # Set no-data value\n",
    "\n",
    "# Initialize an array to store the weighted distance results\n",
    "distance_raster = np.zeros((y_res, x_res), dtype=np.float32)\n",
    "\n",
    "# For each feature (point) in the layer, calculate the Euclidean distance and adjust the weight\n",
    "for feature in layer:\n",
    "    geom = feature.GetGeometryRef()\n",
    "    weight = feature.GetField('weight')  # Replace 'weight' with the actual column name\n",
    "\n",
    "    # Rasterize the point feature to create a temporary mask (value=1 where the point is)\n",
    "    temp_ds = gdal.GetDriverByName('MEM').Create('', x_res, y_res, 1, gdal.GDT_Byte)\n",
    "    temp_ds.SetGeoTransform((x_min, pixel_size, 0, y_max, 0, -pixel_size))\n",
    "    temp_band = temp_ds.GetRasterBand(1)\n",
    "    temp_band.Fill(0)  # Initialize with zeros\n",
    "    gdal.RasterizeLayer(temp_ds, [1], layer, burn_values=[1])\n",
    "\n",
    "    # Read the temporary rasterized point data into an array\n",
    "    point_mask = temp_band.ReadAsArray()\n",
    "\n",
    "    # Compute Euclidean distance from the point\n",
    "    distance = distance_transform_edt(point_mask == 0)\n",
    "\n",
    "    # Apply the weight reduction formula (e.g., weight / distance)\n",
    "    weighted_distance = np.where(distance > 0, weight / distance, weight)\n",
    "\n",
    "    # Combine the weighted distance for this point into the main raster\n",
    "    distance_raster = np.maximum(distance_raster, weighted_distance)  # Take the max of weighted distances\n",
    "\n",
    "# Write the combined weighted distance raster to the output\n",
    "band.WriteArray(distance_raster)\n",
    "\n",
    "# Close datasets\n",
    "target_ds = None\n",
    "vector_source = None\n",
    "\n",
    "print(f\"Weighted Euclidean distance rasterization complete. Output saved at {raster_file}.\")"
   ]
  },
  {
   "cell_type": "code",
   "execution_count": null,
   "metadata": {},
   "outputs": [],
   "source": [
    "# testing drawing a better raster\n",
    "import rasterio\n",
    "from rasterio import features\n",
    "import geopandas as gpd\n",
    "import numpy as np\n",
    "\n",
    "def rasterize_shapefile(shapefile_path, output_path, pixel_size=50):\n",
    "    \"\"\"\n",
    "    Rasterize a shapefile and save it as a GeoTIFF.\n",
    "    \n",
    "    Parameters:\n",
    "    shapefile_path (str): Path to input shapefile\n",
    "    output_path (str): Path for output raster\n",
    "    pixel_size (float): Size of pixels in map units\n",
    "    \"\"\"\n",
    "    # Read the shapefile\n",
    "    gdf = gpd.read_file(shapefile_path)\n",
    "    \n",
    "    # Get the bounds\n",
    "    bounds = gdf.total_bounds\n",
    "    \n",
    "    # Calculate raster dimensions\n",
    "    width = int((bounds[2] - bounds[0]) / pixel_size)\n",
    "    height = int((bounds[3] - bounds[1]) / pixel_size)\n",
    "    \n",
    "    # Create the transform\n",
    "    transform = rasterio.transform.from_bounds(\n",
    "        bounds[0], bounds[1], bounds[2], bounds[3], width, height\n",
    "    )\n",
    "    \n",
    "    # Rasterize the shapes\n",
    "    shapes = ((geom, 1) for geom in gdf.geometry)\n",
    "    raster = features.rasterize(\n",
    "        shapes=shapes,\n",
    "        out_shape=(height, width),\n",
    "        transform=transform,\n",
    "        fill=0,\n",
    "        dtype=np.uint8\n",
    "    )\n",
    "    \n",
    "    # Save the raster\n",
    "    with rasterio.open(\n",
    "        output_path,\n",
    "        'w',\n",
    "        driver='GTiff',\n",
    "        height=height,\n",
    "        width=width,\n",
    "        count=1,\n",
    "        dtype=np.uint8,\n",
    "        crs=gdf.crs,\n",
    "        transform=transform,\n",
    "    ) as dst:\n",
    "        dst.write(raster, 1)\n",
    "        \n",
    "rasterize_shapefile(\n",
    "    \"path/to/your/shapefile.shp\",\n",
    "    \"output/raster.tif\",\n",
    "    pixel_size=50\n",
    ")"
   ]
  },
  {
   "cell_type": "code",
   "execution_count": 30,
   "metadata": {},
   "outputs": [
    {
     "data": {
      "text/plain": [
       "Text(0.5, 1.0, 'Raster Plot')"
      ]
     },
     "execution_count": 30,
     "metadata": {},
     "output_type": "execute_result"
    },
    {
     "data": {
      "image/png": "[encoded data removed]",
      "text/plain": [
       "<Figure size 640x480 with 2 Axes>"
      ]
     },
     "metadata": {},
     "output_type": "display_data"
    }
   ],
   "source": [
    "# plot the raster\n",
    "import matplotlib.pyplot as plt\n",
    "\n",
    "# Open the raster file\n",
    "raster = gdal.Open('rasters/Communityfeatures.tif')\n",
    "\n",
    "# Get the raster data\n",
    "data = raster.ReadAsArray()\n",
    "\n",
    "# Plot the raster\n",
    "plt.imshow(data)\n",
    "plt.colorbar()\n",
    "plt.title('Raster Plot')\n"
   ]
  },
  {
   "cell_type": "code",
   "execution_count": 31,
   "metadata": {},
   "outputs": [
    {
     "data": {
      "text/plain": [
       "Text(0.5, 1.0, 'Raster Plot')"
      ]
     },
     "execution_count": 31,
     "metadata": {},
     "output_type": "execute_result"
    },
    {
     "data": {
      "image/png": "[encoded data removed]",
      "text/plain": [
       "<Figure size 640x480 with 2 Axes>"
      ]
     },
     "metadata": {},
     "output_type": "display_data"
    }
   ],
   "source": [
    "# plot the raster\n",
    "import matplotlib.pyplot as plt\n",
    "\n",
    "# Open the raster file\n",
    "raster = gdal.Open('rasters/Communityfeatures_distance.tif')\n",
    "\n",
    "# Get the raster data\n",
    "data = raster.ReadAsArray()\n",
    "\n",
    "# Plot the raster\n",
    "plt.imshow(data)\n",
    "plt.colorbar()\n",
    "plt.title('Raster Plot')"
   ]
  }
 ],
 "metadata": {
  "kernelspec": {
   "display_name": "Python 3",
   "language": "python",
   "name": "python3"
  },
  "language_info": {
   "codemirror_mode": {
    "name": "ipython",
    "version": 3
   },
   "file_extension": ".py",
   "mimetype": "text/x-python",
   "name": "python",
   "nbconvert_exporter": "python",
   "pygments_lexer": "ipython3",
   "version": "3.13.0"
  }
 },
 "nbformat": 4,
 "nbformat_minor": 2
}
